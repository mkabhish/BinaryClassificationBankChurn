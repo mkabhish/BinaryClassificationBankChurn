{
 "cells": [
  {
   "cell_type": "code",
   "execution_count": 1,
   "id": "432672b1",
   "metadata": {
    "_cell_guid": "b1076dfc-b9ad-4769-8c92-a6c4dae69d19",
    "_uuid": "8f2839f25d086af736a60e9eeb907d3b93b6e0e5",
    "execution": {
     "iopub.execute_input": "2024-01-09T09:53:17.071087Z",
     "iopub.status.busy": "2024-01-09T09:53:17.070723Z",
     "iopub.status.idle": "2024-01-09T09:53:18.293715Z",
     "shell.execute_reply": "2024-01-09T09:53:18.292155Z"
    },
    "papermill": {
     "duration": 1.236618,
     "end_time": "2024-01-09T09:53:18.296110",
     "exception": false,
     "start_time": "2024-01-09T09:53:17.059492",
     "status": "completed"
    },
    "tags": []
   },
   "outputs": [
    {
     "name": "stdout",
     "output_type": "stream",
     "text": [
      "/kaggle/input/playground-series-s4e1/sample_submission.csv\n",
      "/kaggle/input/playground-series-s4e1/train.csv\n",
      "/kaggle/input/playground-series-s4e1/test.csv\n"
     ]
    }
   ],
   "source": [
    "\n",
    "import numpy as np\n",
    "import pandas as pd\n"
   ]
  },
  {
   "cell_type": "markdown",
   "id": "c2a22fd1",
   "metadata": {
    "papermill": {
     "duration": 0.010755,
     "end_time": "2024-01-09T09:53:18.318423",
     "exception": false,
     "start_time": "2024-01-09T09:53:18.307668",
     "status": "completed"
    },
    "tags": []
   },
   "source": [
    "## Importing Libraries"
   ]
  },
  {
   "cell_type": "code",
   "execution_count": 2,
   "id": "e5ba87ce",
   "metadata": {
    "execution": {
     "iopub.execute_input": "2024-01-09T09:53:18.341677Z",
     "iopub.status.busy": "2024-01-09T09:53:18.341250Z",
     "iopub.status.idle": "2024-01-09T09:53:20.545434Z",
     "shell.execute_reply": "2024-01-09T09:53:20.544656Z"
    },
    "papermill": {
     "duration": 2.218342,
     "end_time": "2024-01-09T09:53:20.547735",
     "exception": false,
     "start_time": "2024-01-09T09:53:18.329393",
     "status": "completed"
    },
    "tags": []
   },
   "outputs": [
    {
     "name": "stderr",
     "output_type": "stream",
     "text": [
      "/opt/conda/lib/python3.10/site-packages/scipy/__init__.py:146: UserWarning: A NumPy version >=1.16.5 and <1.23.0 is required for this version of SciPy (detected version 1.24.3\n",
      "  warnings.warn(f\"A NumPy version >={np_minversion} and <{np_maxversion}\"\n"
     ]
    }
   ],
   "source": [
    "import pandas as pd\n",
    "import matplotlib.pyplot as plt\n",
    "from pandas.plotting import scatter_matrix\n",
    "from sklearn.model_selection import train_test_split, KFold, cross_val_score, GridSearchCV\n",
    "from sklearn.preprocessing import StandardScaler\n",
    "from sklearn.linear_model import LogisticRegression\n",
    "from sklearn.discriminant_analysis import LinearDiscriminantAnalysis\n",
    "from sklearn.neighbors import KNeighborsClassifier\n",
    "from sklearn.tree import DecisionTreeClassifier\n",
    "from sklearn.svm import SVC\n",
    "from sklearn.naive_bayes import GaussianNB\n",
    "from sklearn.metrics import roc_auc_score\n",
    "from sklearn.metrics import classification_report\n",
    "from sklearn.metrics import confusion_matrix\n",
    "from sklearn.ensemble import RandomForestClassifier\n",
    "from sklearn.ensemble import ExtraTreesClassifier\n",
    "from sklearn.ensemble import AdaBoostClassifier\n",
    "from sklearn.ensemble import GradientBoostingClassifier"
   ]
  },
  {
   "cell_type": "markdown",
   "id": "e5a16a21",
   "metadata": {
    "papermill": {
     "duration": 0.009479,
     "end_time": "2024-01-09T09:53:20.567733",
     "exception": false,
     "start_time": "2024-01-09T09:53:20.558254",
     "status": "completed"
    },
    "tags": []
   },
   "source": [
    "## Loading Data"
   ]
  },
  {
   "cell_type": "code",
   "execution_count": 3,
   "id": "28da60f0",
   "metadata": {
    "execution": {
     "iopub.execute_input": "2024-01-09T09:53:20.588101Z",
     "iopub.status.busy": "2024-01-09T09:53:20.587806Z",
     "iopub.status.idle": "2024-01-09T09:53:21.288155Z",
     "shell.execute_reply": "2024-01-09T09:53:21.287332Z"
    },
    "papermill": {
     "duration": 0.713029,
     "end_time": "2024-01-09T09:53:21.290438",
     "exception": false,
     "start_time": "2024-01-09T09:53:20.577409",
     "status": "completed"
    },
    "tags": []
   },
   "outputs": [],
   "source": [
    "train_df = pd.read_csv('train.csv')\n",
    "test_df = pd.read_csv('test.csv')"
   ]
  },
  {
   "cell_type": "code",
   "execution_count": 4,
   "id": "47a800e5",
   "metadata": {
    "execution": {
     "iopub.execute_input": "2024-01-09T09:53:21.311636Z",
     "iopub.status.busy": "2024-01-09T09:53:21.311345Z",
     "iopub.status.idle": "2024-01-09T09:53:21.338707Z",
     "shell.execute_reply": "2024-01-09T09:53:21.337858Z"
    },
    "papermill": {
     "duration": 0.03973,
     "end_time": "2024-01-09T09:53:21.340605",
     "exception": false,
     "start_time": "2024-01-09T09:53:21.300875",
     "status": "completed"
    },
    "tags": []
   },
   "outputs": [
    {
     "data": {
      "text/plain": [
       "Exited\n",
       "0    130113\n",
       "1     34921\n",
       "dtype: int64"
      ]
     },
     "execution_count": 4,
     "metadata": {},
     "output_type": "execute_result"
    }
   ],
   "source": [
    "train_df.groupby('Exited').size()"
   ]
  },
  {
   "cell_type": "code",
   "execution_count": 5,
   "id": "ad66724e",
   "metadata": {
    "execution": {
     "iopub.execute_input": "2024-01-09T09:53:21.361595Z",
     "iopub.status.busy": "2024-01-09T09:53:21.360947Z",
     "iopub.status.idle": "2024-01-09T09:53:21.733061Z",
     "shell.execute_reply": "2024-01-09T09:53:21.732275Z"
    },
    "papermill": {
     "duration": 0.385058,
     "end_time": "2024-01-09T09:53:21.735385",
     "exception": false,
     "start_time": "2024-01-09T09:53:21.350327",
     "status": "completed"
    },
    "tags": []
   },
   "outputs": [],
   "source": [
    "import seaborn as sns"
   ]
  },
  {
   "cell_type": "code",
   "execution_count": 6,
   "id": "cc0fba35",
   "metadata": {
    "execution": {
     "iopub.execute_input": "2024-01-09T09:53:21.756791Z",
     "iopub.status.busy": "2024-01-09T09:53:21.756517Z",
     "iopub.status.idle": "2024-01-09T09:53:21.785099Z",
     "shell.execute_reply": "2024-01-09T09:53:21.784224Z"
    },
    "papermill": {
     "duration": 0.041423,
     "end_time": "2024-01-09T09:53:21.787156",
     "exception": false,
     "start_time": "2024-01-09T09:53:21.745733",
     "status": "completed"
    },
    "tags": []
   },
   "outputs": [
    {
     "data": {
      "text/html": [
       "<div>\n",
       "<style scoped>\n",
       "    .dataframe tbody tr th:only-of-type {\n",
       "        vertical-align: middle;\n",
       "    }\n",
       "\n",
       "    .dataframe tbody tr th {\n",
       "        vertical-align: top;\n",
       "    }\n",
       "\n",
       "    .dataframe thead th {\n",
       "        text-align: right;\n",
       "    }\n",
       "</style>\n",
       "<table border=\"1\" class=\"dataframe\">\n",
       "  <thead>\n",
       "    <tr style=\"text-align: right;\">\n",
       "      <th></th>\n",
       "      <th>id</th>\n",
       "      <th>CustomerId</th>\n",
       "      <th>Surname</th>\n",
       "      <th>CreditScore</th>\n",
       "      <th>Geography</th>\n",
       "      <th>Gender</th>\n",
       "      <th>Age</th>\n",
       "      <th>Tenure</th>\n",
       "      <th>Balance</th>\n",
       "      <th>NumOfProducts</th>\n",
       "      <th>HasCrCard</th>\n",
       "      <th>IsActiveMember</th>\n",
       "      <th>EstimatedSalary</th>\n",
       "      <th>Exited</th>\n",
       "    </tr>\n",
       "  </thead>\n",
       "  <tbody>\n",
       "    <tr>\n",
       "      <th>0</th>\n",
       "      <td>0</td>\n",
       "      <td>15674932</td>\n",
       "      <td>Okwudilichukwu</td>\n",
       "      <td>668</td>\n",
       "      <td>France</td>\n",
       "      <td>Male</td>\n",
       "      <td>33.0</td>\n",
       "      <td>3</td>\n",
       "      <td>0.00</td>\n",
       "      <td>2</td>\n",
       "      <td>1.0</td>\n",
       "      <td>0.0</td>\n",
       "      <td>181449.97</td>\n",
       "      <td>0</td>\n",
       "    </tr>\n",
       "    <tr>\n",
       "      <th>1</th>\n",
       "      <td>1</td>\n",
       "      <td>15749177</td>\n",
       "      <td>Okwudiliolisa</td>\n",
       "      <td>627</td>\n",
       "      <td>France</td>\n",
       "      <td>Male</td>\n",
       "      <td>33.0</td>\n",
       "      <td>1</td>\n",
       "      <td>0.00</td>\n",
       "      <td>2</td>\n",
       "      <td>1.0</td>\n",
       "      <td>1.0</td>\n",
       "      <td>49503.50</td>\n",
       "      <td>0</td>\n",
       "    </tr>\n",
       "    <tr>\n",
       "      <th>2</th>\n",
       "      <td>2</td>\n",
       "      <td>15694510</td>\n",
       "      <td>Hsueh</td>\n",
       "      <td>678</td>\n",
       "      <td>France</td>\n",
       "      <td>Male</td>\n",
       "      <td>40.0</td>\n",
       "      <td>10</td>\n",
       "      <td>0.00</td>\n",
       "      <td>2</td>\n",
       "      <td>1.0</td>\n",
       "      <td>0.0</td>\n",
       "      <td>184866.69</td>\n",
       "      <td>0</td>\n",
       "    </tr>\n",
       "    <tr>\n",
       "      <th>3</th>\n",
       "      <td>3</td>\n",
       "      <td>15741417</td>\n",
       "      <td>Kao</td>\n",
       "      <td>581</td>\n",
       "      <td>France</td>\n",
       "      <td>Male</td>\n",
       "      <td>34.0</td>\n",
       "      <td>2</td>\n",
       "      <td>148882.54</td>\n",
       "      <td>1</td>\n",
       "      <td>1.0</td>\n",
       "      <td>1.0</td>\n",
       "      <td>84560.88</td>\n",
       "      <td>0</td>\n",
       "    </tr>\n",
       "    <tr>\n",
       "      <th>4</th>\n",
       "      <td>4</td>\n",
       "      <td>15766172</td>\n",
       "      <td>Chiemenam</td>\n",
       "      <td>716</td>\n",
       "      <td>Spain</td>\n",
       "      <td>Male</td>\n",
       "      <td>33.0</td>\n",
       "      <td>5</td>\n",
       "      <td>0.00</td>\n",
       "      <td>2</td>\n",
       "      <td>1.0</td>\n",
       "      <td>1.0</td>\n",
       "      <td>15068.83</td>\n",
       "      <td>0</td>\n",
       "    </tr>\n",
       "    <tr>\n",
       "      <th>...</th>\n",
       "      <td>...</td>\n",
       "      <td>...</td>\n",
       "      <td>...</td>\n",
       "      <td>...</td>\n",
       "      <td>...</td>\n",
       "      <td>...</td>\n",
       "      <td>...</td>\n",
       "      <td>...</td>\n",
       "      <td>...</td>\n",
       "      <td>...</td>\n",
       "      <td>...</td>\n",
       "      <td>...</td>\n",
       "      <td>...</td>\n",
       "      <td>...</td>\n",
       "    </tr>\n",
       "    <tr>\n",
       "      <th>165029</th>\n",
       "      <td>165029</td>\n",
       "      <td>15667085</td>\n",
       "      <td>Meng</td>\n",
       "      <td>667</td>\n",
       "      <td>Spain</td>\n",
       "      <td>Female</td>\n",
       "      <td>33.0</td>\n",
       "      <td>2</td>\n",
       "      <td>0.00</td>\n",
       "      <td>1</td>\n",
       "      <td>1.0</td>\n",
       "      <td>1.0</td>\n",
       "      <td>131834.75</td>\n",
       "      <td>0</td>\n",
       "    </tr>\n",
       "    <tr>\n",
       "      <th>165030</th>\n",
       "      <td>165030</td>\n",
       "      <td>15665521</td>\n",
       "      <td>Okechukwu</td>\n",
       "      <td>792</td>\n",
       "      <td>France</td>\n",
       "      <td>Male</td>\n",
       "      <td>35.0</td>\n",
       "      <td>3</td>\n",
       "      <td>0.00</td>\n",
       "      <td>1</td>\n",
       "      <td>0.0</td>\n",
       "      <td>0.0</td>\n",
       "      <td>131834.45</td>\n",
       "      <td>0</td>\n",
       "    </tr>\n",
       "    <tr>\n",
       "      <th>165031</th>\n",
       "      <td>165031</td>\n",
       "      <td>15664752</td>\n",
       "      <td>Hsia</td>\n",
       "      <td>565</td>\n",
       "      <td>France</td>\n",
       "      <td>Male</td>\n",
       "      <td>31.0</td>\n",
       "      <td>5</td>\n",
       "      <td>0.00</td>\n",
       "      <td>1</td>\n",
       "      <td>1.0</td>\n",
       "      <td>1.0</td>\n",
       "      <td>127429.56</td>\n",
       "      <td>0</td>\n",
       "    </tr>\n",
       "    <tr>\n",
       "      <th>165032</th>\n",
       "      <td>165032</td>\n",
       "      <td>15689614</td>\n",
       "      <td>Hsiung</td>\n",
       "      <td>554</td>\n",
       "      <td>Spain</td>\n",
       "      <td>Female</td>\n",
       "      <td>30.0</td>\n",
       "      <td>7</td>\n",
       "      <td>161533.00</td>\n",
       "      <td>1</td>\n",
       "      <td>0.0</td>\n",
       "      <td>1.0</td>\n",
       "      <td>71173.03</td>\n",
       "      <td>0</td>\n",
       "    </tr>\n",
       "    <tr>\n",
       "      <th>165033</th>\n",
       "      <td>165033</td>\n",
       "      <td>15732798</td>\n",
       "      <td>Ulyanov</td>\n",
       "      <td>850</td>\n",
       "      <td>France</td>\n",
       "      <td>Male</td>\n",
       "      <td>31.0</td>\n",
       "      <td>1</td>\n",
       "      <td>0.00</td>\n",
       "      <td>1</td>\n",
       "      <td>1.0</td>\n",
       "      <td>0.0</td>\n",
       "      <td>61581.79</td>\n",
       "      <td>1</td>\n",
       "    </tr>\n",
       "  </tbody>\n",
       "</table>\n",
       "<p>165034 rows × 14 columns</p>\n",
       "</div>"
      ],
      "text/plain": [
       "            id  CustomerId         Surname  CreditScore Geography  Gender  \\\n",
       "0            0    15674932  Okwudilichukwu          668    France    Male   \n",
       "1            1    15749177   Okwudiliolisa          627    France    Male   \n",
       "2            2    15694510           Hsueh          678    France    Male   \n",
       "3            3    15741417             Kao          581    France    Male   \n",
       "4            4    15766172       Chiemenam          716     Spain    Male   \n",
       "...        ...         ...             ...          ...       ...     ...   \n",
       "165029  165029    15667085            Meng          667     Spain  Female   \n",
       "165030  165030    15665521       Okechukwu          792    France    Male   \n",
       "165031  165031    15664752            Hsia          565    France    Male   \n",
       "165032  165032    15689614          Hsiung          554     Spain  Female   \n",
       "165033  165033    15732798         Ulyanov          850    France    Male   \n",
       "\n",
       "         Age  Tenure    Balance  NumOfProducts  HasCrCard  IsActiveMember  \\\n",
       "0       33.0       3       0.00              2        1.0             0.0   \n",
       "1       33.0       1       0.00              2        1.0             1.0   \n",
       "2       40.0      10       0.00              2        1.0             0.0   \n",
       "3       34.0       2  148882.54              1        1.0             1.0   \n",
       "4       33.0       5       0.00              2        1.0             1.0   \n",
       "...      ...     ...        ...            ...        ...             ...   \n",
       "165029  33.0       2       0.00              1        1.0             1.0   \n",
       "165030  35.0       3       0.00              1        0.0             0.0   \n",
       "165031  31.0       5       0.00              1        1.0             1.0   \n",
       "165032  30.0       7  161533.00              1        0.0             1.0   \n",
       "165033  31.0       1       0.00              1        1.0             0.0   \n",
       "\n",
       "        EstimatedSalary  Exited  \n",
       "0             181449.97       0  \n",
       "1              49503.50       0  \n",
       "2             184866.69       0  \n",
       "3              84560.88       0  \n",
       "4              15068.83       0  \n",
       "...                 ...     ...  \n",
       "165029        131834.75       0  \n",
       "165030        131834.45       0  \n",
       "165031        127429.56       0  \n",
       "165032         71173.03       0  \n",
       "165033         61581.79       1  \n",
       "\n",
       "[165034 rows x 14 columns]"
      ]
     },
     "execution_count": 6,
     "metadata": {},
     "output_type": "execute_result"
    }
   ],
   "source": [
    "train_df"
   ]
  },
  {
   "cell_type": "code",
   "execution_count": 7,
   "id": "c570fc8a",
   "metadata": {
    "execution": {
     "iopub.execute_input": "2024-01-09T09:53:21.808995Z",
     "iopub.status.busy": "2024-01-09T09:53:21.808730Z",
     "iopub.status.idle": "2024-01-09T09:53:21.813891Z",
     "shell.execute_reply": "2024-01-09T09:53:21.812672Z"
    },
    "papermill": {
     "duration": 0.018407,
     "end_time": "2024-01-09T09:53:21.816084",
     "exception": false,
     "start_time": "2024-01-09T09:53:21.797677",
     "status": "completed"
    },
    "tags": []
   },
   "outputs": [],
   "source": [
    "def drop_columns(df, columns):\n",
    "    df = df.drop(columns=columns)\n",
    "    return df"
   ]
  },
  {
   "cell_type": "code",
   "execution_count": 8,
   "id": "42e6e882",
   "metadata": {
    "execution": {
     "iopub.execute_input": "2024-01-09T09:53:21.837916Z",
     "iopub.status.busy": "2024-01-09T09:53:21.837634Z",
     "iopub.status.idle": "2024-01-09T09:53:21.853419Z",
     "shell.execute_reply": "2024-01-09T09:53:21.852555Z"
    },
    "papermill": {
     "duration": 0.028537,
     "end_time": "2024-01-09T09:53:21.855357",
     "exception": false,
     "start_time": "2024-01-09T09:53:21.826820",
     "status": "completed"
    },
    "tags": []
   },
   "outputs": [],
   "source": [
    "columns = ['id', 'CustomerId', 'Geography', 'Gender', 'Surname']\n",
    "train_df = drop_columns(train_df, columns)\n",
    "test_df = drop_columns(test_df, columns)"
   ]
  },
  {
   "cell_type": "code",
   "execution_count": 9,
   "id": "456154e7",
   "metadata": {
    "execution": {
     "iopub.execute_input": "2024-01-09T09:53:21.877416Z",
     "iopub.status.busy": "2024-01-09T09:53:21.877155Z",
     "iopub.status.idle": "2024-01-09T09:53:21.898342Z",
     "shell.execute_reply": "2024-01-09T09:53:21.897447Z"
    },
    "papermill": {
     "duration": 0.034477,
     "end_time": "2024-01-09T09:53:21.900322",
     "exception": false,
     "start_time": "2024-01-09T09:53:21.865845",
     "status": "completed"
    },
    "tags": []
   },
   "outputs": [
    {
     "data": {
      "text/html": [
       "<div>\n",
       "<style scoped>\n",
       "    .dataframe tbody tr th:only-of-type {\n",
       "        vertical-align: middle;\n",
       "    }\n",
       "\n",
       "    .dataframe tbody tr th {\n",
       "        vertical-align: top;\n",
       "    }\n",
       "\n",
       "    .dataframe thead th {\n",
       "        text-align: right;\n",
       "    }\n",
       "</style>\n",
       "<table border=\"1\" class=\"dataframe\">\n",
       "  <thead>\n",
       "    <tr style=\"text-align: right;\">\n",
       "      <th></th>\n",
       "      <th>CreditScore</th>\n",
       "      <th>Age</th>\n",
       "      <th>Tenure</th>\n",
       "      <th>Balance</th>\n",
       "      <th>NumOfProducts</th>\n",
       "      <th>HasCrCard</th>\n",
       "      <th>IsActiveMember</th>\n",
       "      <th>EstimatedSalary</th>\n",
       "      <th>Exited</th>\n",
       "    </tr>\n",
       "  </thead>\n",
       "  <tbody>\n",
       "    <tr>\n",
       "      <th>0</th>\n",
       "      <td>668</td>\n",
       "      <td>33.0</td>\n",
       "      <td>3</td>\n",
       "      <td>0.00</td>\n",
       "      <td>2</td>\n",
       "      <td>1.0</td>\n",
       "      <td>0.0</td>\n",
       "      <td>181449.97</td>\n",
       "      <td>0</td>\n",
       "    </tr>\n",
       "    <tr>\n",
       "      <th>1</th>\n",
       "      <td>627</td>\n",
       "      <td>33.0</td>\n",
       "      <td>1</td>\n",
       "      <td>0.00</td>\n",
       "      <td>2</td>\n",
       "      <td>1.0</td>\n",
       "      <td>1.0</td>\n",
       "      <td>49503.50</td>\n",
       "      <td>0</td>\n",
       "    </tr>\n",
       "    <tr>\n",
       "      <th>2</th>\n",
       "      <td>678</td>\n",
       "      <td>40.0</td>\n",
       "      <td>10</td>\n",
       "      <td>0.00</td>\n",
       "      <td>2</td>\n",
       "      <td>1.0</td>\n",
       "      <td>0.0</td>\n",
       "      <td>184866.69</td>\n",
       "      <td>0</td>\n",
       "    </tr>\n",
       "    <tr>\n",
       "      <th>3</th>\n",
       "      <td>581</td>\n",
       "      <td>34.0</td>\n",
       "      <td>2</td>\n",
       "      <td>148882.54</td>\n",
       "      <td>1</td>\n",
       "      <td>1.0</td>\n",
       "      <td>1.0</td>\n",
       "      <td>84560.88</td>\n",
       "      <td>0</td>\n",
       "    </tr>\n",
       "    <tr>\n",
       "      <th>4</th>\n",
       "      <td>716</td>\n",
       "      <td>33.0</td>\n",
       "      <td>5</td>\n",
       "      <td>0.00</td>\n",
       "      <td>2</td>\n",
       "      <td>1.0</td>\n",
       "      <td>1.0</td>\n",
       "      <td>15068.83</td>\n",
       "      <td>0</td>\n",
       "    </tr>\n",
       "    <tr>\n",
       "      <th>...</th>\n",
       "      <td>...</td>\n",
       "      <td>...</td>\n",
       "      <td>...</td>\n",
       "      <td>...</td>\n",
       "      <td>...</td>\n",
       "      <td>...</td>\n",
       "      <td>...</td>\n",
       "      <td>...</td>\n",
       "      <td>...</td>\n",
       "    </tr>\n",
       "    <tr>\n",
       "      <th>165029</th>\n",
       "      <td>667</td>\n",
       "      <td>33.0</td>\n",
       "      <td>2</td>\n",
       "      <td>0.00</td>\n",
       "      <td>1</td>\n",
       "      <td>1.0</td>\n",
       "      <td>1.0</td>\n",
       "      <td>131834.75</td>\n",
       "      <td>0</td>\n",
       "    </tr>\n",
       "    <tr>\n",
       "      <th>165030</th>\n",
       "      <td>792</td>\n",
       "      <td>35.0</td>\n",
       "      <td>3</td>\n",
       "      <td>0.00</td>\n",
       "      <td>1</td>\n",
       "      <td>0.0</td>\n",
       "      <td>0.0</td>\n",
       "      <td>131834.45</td>\n",
       "      <td>0</td>\n",
       "    </tr>\n",
       "    <tr>\n",
       "      <th>165031</th>\n",
       "      <td>565</td>\n",
       "      <td>31.0</td>\n",
       "      <td>5</td>\n",
       "      <td>0.00</td>\n",
       "      <td>1</td>\n",
       "      <td>1.0</td>\n",
       "      <td>1.0</td>\n",
       "      <td>127429.56</td>\n",
       "      <td>0</td>\n",
       "    </tr>\n",
       "    <tr>\n",
       "      <th>165032</th>\n",
       "      <td>554</td>\n",
       "      <td>30.0</td>\n",
       "      <td>7</td>\n",
       "      <td>161533.00</td>\n",
       "      <td>1</td>\n",
       "      <td>0.0</td>\n",
       "      <td>1.0</td>\n",
       "      <td>71173.03</td>\n",
       "      <td>0</td>\n",
       "    </tr>\n",
       "    <tr>\n",
       "      <th>165033</th>\n",
       "      <td>850</td>\n",
       "      <td>31.0</td>\n",
       "      <td>1</td>\n",
       "      <td>0.00</td>\n",
       "      <td>1</td>\n",
       "      <td>1.0</td>\n",
       "      <td>0.0</td>\n",
       "      <td>61581.79</td>\n",
       "      <td>1</td>\n",
       "    </tr>\n",
       "  </tbody>\n",
       "</table>\n",
       "<p>165034 rows × 9 columns</p>\n",
       "</div>"
      ],
      "text/plain": [
       "        CreditScore   Age  Tenure    Balance  NumOfProducts  HasCrCard  \\\n",
       "0               668  33.0       3       0.00              2        1.0   \n",
       "1               627  33.0       1       0.00              2        1.0   \n",
       "2               678  40.0      10       0.00              2        1.0   \n",
       "3               581  34.0       2  148882.54              1        1.0   \n",
       "4               716  33.0       5       0.00              2        1.0   \n",
       "...             ...   ...     ...        ...            ...        ...   \n",
       "165029          667  33.0       2       0.00              1        1.0   \n",
       "165030          792  35.0       3       0.00              1        0.0   \n",
       "165031          565  31.0       5       0.00              1        1.0   \n",
       "165032          554  30.0       7  161533.00              1        0.0   \n",
       "165033          850  31.0       1       0.00              1        1.0   \n",
       "\n",
       "        IsActiveMember  EstimatedSalary  Exited  \n",
       "0                  0.0        181449.97       0  \n",
       "1                  1.0         49503.50       0  \n",
       "2                  0.0        184866.69       0  \n",
       "3                  1.0         84560.88       0  \n",
       "4                  1.0         15068.83       0  \n",
       "...                ...              ...     ...  \n",
       "165029             1.0        131834.75       0  \n",
       "165030             0.0        131834.45       0  \n",
       "165031             1.0        127429.56       0  \n",
       "165032             1.0         71173.03       0  \n",
       "165033             0.0         61581.79       1  \n",
       "\n",
       "[165034 rows x 9 columns]"
      ]
     },
     "execution_count": 9,
     "metadata": {},
     "output_type": "execute_result"
    }
   ],
   "source": [
    "train_df"
   ]
  },
  {
   "cell_type": "code",
   "execution_count": 10,
   "id": "94839ca0",
   "metadata": {
    "execution": {
     "iopub.execute_input": "2024-01-09T09:53:21.923562Z",
     "iopub.status.busy": "2024-01-09T09:53:21.923278Z",
     "iopub.status.idle": "2024-01-09T09:53:22.394418Z",
     "shell.execute_reply": "2024-01-09T09:53:22.393472Z"
    },
    "papermill": {
     "duration": 0.485541,
     "end_time": "2024-01-09T09:53:22.396771",
     "exception": false,
     "start_time": "2024-01-09T09:53:21.911230",
     "status": "completed"
    },
    "tags": []
   },
   "outputs": [
    {
     "data": {
      "text/plain": [
       "<Axes: >"
      ]
     },
     "execution_count": 10,
     "metadata": {},
     "output_type": "execute_result"
    },
    {
     "data": {
      "image/png": "[encoded data removed]",
      "text/plain": [
       "<Figure size 640x480 with 2 Axes>"
      ]
     },
     "metadata": {},
     "output_type": "display_data"
    }
   ],
   "source": [
    "sns.heatmap(train_df.corr(method='pearson'))"
   ]
  },
  {
   "cell_type": "code",
   "execution_count": 11,
   "id": "3f1e4e38",
   "metadata": {
    "execution": {
     "iopub.execute_input": "2024-01-09T09:53:22.422349Z",
     "iopub.status.busy": "2024-01-09T09:53:22.422070Z",
     "iopub.status.idle": "2024-01-09T09:53:22.432975Z",
     "shell.execute_reply": "2024-01-09T09:53:22.432230Z"
    },
    "papermill": {
     "duration": 0.026462,
     "end_time": "2024-01-09T09:53:22.435250",
     "exception": false,
     "start_time": "2024-01-09T09:53:22.408788",
     "status": "completed"
    },
    "tags": []
   },
   "outputs": [],
   "source": [
    "train_df = drop_columns(train_df, ['NumOfProducts'])\n",
    "test_df = drop_columns(test_df, ['NumOfProducts'])"
   ]
  },
  {
   "cell_type": "code",
   "execution_count": 12,
   "id": "6a359b96",
   "metadata": {
    "execution": {
     "iopub.execute_input": "2024-01-09T09:53:22.461293Z",
     "iopub.status.busy": "2024-01-09T09:53:22.460937Z",
     "iopub.status.idle": "2024-01-09T09:53:22.888049Z",
     "shell.execute_reply": "2024-01-09T09:53:22.887167Z"
    },
    "papermill": {
     "duration": 0.441988,
     "end_time": "2024-01-09T09:53:22.890200",
     "exception": false,
     "start_time": "2024-01-09T09:53:22.448212",
     "status": "completed"
    },
    "tags": []
   },
   "outputs": [
    {
     "data": {
      "text/plain": [
       "<Axes: >"
      ]
     },
     "execution_count": 12,
     "metadata": {},
     "output_type": "execute_result"
    },
    {
     "data": {
      "image/png": "[encoded data removed]",
      "text/plain": [
       "<Figure size 640x480 with 2 Axes>"
      ]
     },
     "metadata": {},
     "output_type": "display_data"
    }
   ],
   "source": [
    "sns.heatmap(train_df.corr(method='pearson'))"
   ]
  },
  {
   "cell_type": "code",
   "execution_count": 13,
   "id": "8de5d403",
   "metadata": {
    "execution": {
     "iopub.execute_input": "2024-01-09T09:53:22.915825Z",
     "iopub.status.busy": "2024-01-09T09:53:22.915186Z",
     "iopub.status.idle": "2024-01-09T09:53:23.002263Z",
     "shell.execute_reply": "2024-01-09T09:53:23.001208Z"
    },
    "papermill": {
     "duration": 0.102357,
     "end_time": "2024-01-09T09:53:23.004782",
     "exception": false,
     "start_time": "2024-01-09T09:53:22.902425",
     "status": "completed"
    },
    "tags": []
   },
   "outputs": [],
   "source": [
    "X = train_df.drop('Exited', axis = 1).values\n",
    "y = train_df.Exited.values\n",
    "validation_size = 0.20\n",
    "seed = 42\n",
    "X_train, X_validation, y_train, y_validation = train_test_split(X, y, test_size = validation_size, random_state = seed, stratify=y)"
   ]
  },
  {
   "cell_type": "markdown",
   "id": "118b06c6",
   "metadata": {
    "papermill": {
     "duration": 0.011671,
     "end_time": "2024-01-09T09:53:23.028825",
     "exception": false,
     "start_time": "2024-01-09T09:53:23.017154",
     "status": "completed"
    },
    "tags": []
   },
   "source": [
    "## Evaluate Algorithms"
   ]
  },
  {
   "cell_type": "code",
   "execution_count": 14,
   "id": "2a32dd76",
   "metadata": {
    "execution": {
     "iopub.execute_input": "2024-01-09T09:53:23.054078Z",
     "iopub.status.busy": "2024-01-09T09:53:23.053736Z",
     "iopub.status.idle": "2024-01-09T09:53:23.058172Z",
     "shell.execute_reply": "2024-01-09T09:53:23.057290Z"
    },
    "papermill": {
     "duration": 0.019133,
     "end_time": "2024-01-09T09:53:23.060052",
     "exception": false,
     "start_time": "2024-01-09T09:53:23.040919",
     "status": "completed"
    },
    "tags": []
   },
   "outputs": [],
   "source": [
    "num_folds = 10\n",
    "scoring = 'roc_auc'"
   ]
  },
  {
   "cell_type": "code",
   "execution_count": 15,
   "id": "e0a3e757",
   "metadata": {
    "execution": {
     "iopub.execute_input": "2024-01-09T09:53:23.084752Z",
     "iopub.status.busy": "2024-01-09T09:53:23.084497Z",
     "iopub.status.idle": "2024-01-09T09:53:23.090972Z",
     "shell.execute_reply": "2024-01-09T09:53:23.090315Z"
    },
    "papermill": {
     "duration": 0.021081,
     "end_time": "2024-01-09T09:53:23.092836",
     "exception": false,
     "start_time": "2024-01-09T09:53:23.071755",
     "status": "completed"
    },
    "tags": []
   },
   "outputs": [],
   "source": [
    "from sklearn.pipeline import Pipeline\n",
    "from sklearn.preprocessing import StandardScaler"
   ]
  },
  {
   "cell_type": "code",
   "execution_count": 16,
   "id": "b9669e5e",
   "metadata": {
    "execution": {
     "iopub.execute_input": "2024-01-09T09:53:23.117861Z",
     "iopub.status.busy": "2024-01-09T09:53:23.117596Z",
     "iopub.status.idle": "2024-01-09T09:53:23.121524Z",
     "shell.execute_reply": "2024-01-09T09:53:23.120700Z"
    },
    "papermill": {
     "duration": 0.018776,
     "end_time": "2024-01-09T09:53:23.123760",
     "exception": false,
     "start_time": "2024-01-09T09:53:23.104984",
     "status": "completed"
    },
    "tags": []
   },
   "outputs": [],
   "source": [
    "from sklearn.model_selection import StratifiedKFold"
   ]
  },
  {
   "cell_type": "code",
   "execution_count": 17,
   "id": "4e5e6b1e",
   "metadata": {
    "execution": {
     "iopub.execute_input": "2024-01-09T09:53:23.148815Z",
     "iopub.status.busy": "2024-01-09T09:53:23.148539Z",
     "iopub.status.idle": "2024-01-09T09:53:23.152861Z",
     "shell.execute_reply": "2024-01-09T09:53:23.152048Z"
    },
    "papermill": {
     "duration": 0.019288,
     "end_time": "2024-01-09T09:53:23.154879",
     "exception": false,
     "start_time": "2024-01-09T09:53:23.135591",
     "status": "completed"
    },
    "tags": []
   },
   "outputs": [],
   "source": [
    "pipelines = []\n",
    "pipelines.append(('ScaledLR', Pipeline([('Scaler', StandardScaler()), ('LR', LogisticRegression())])))\n",
    "pipelines.append(('ScaledLDA', Pipeline([('Scaler', StandardScaler()), ('LDA', LinearDiscriminantAnalysis())])))\n",
    "pipelines.append(('ScaledKNN', Pipeline([('Scaler', StandardScaler()), ('KNN', KNeighborsClassifier())])))\n",
    "pipelines.append(('ScaledCART', Pipeline([('Scaler', StandardScaler()), ('CART', DecisionTreeClassifier())])))\n",
    "pipelines.append(('ScaledNB', Pipeline([('Scaler', StandardScaler()), ('NB', GaussianNB())])))\n",
    "# pipelines.append(('ScaledSVC', Pipeline([('Scaler', StandardScaler()), ('SVC', SVC())])))\n",
    "\n",
    "results = []\n",
    "names = []\n",
    "\n",
    "for name, model in pipelines:\n",
    "    strat_kfold = StratifiedKFold(n_splits = num_folds, random_state = seed, shuffle=True)\n",
    "    cv_results = cross_val_score(model, X_train, y_train, scoring=scoring, cv=strat_kfold)\n",
    "    results.append(cv_results)\n",
    "    names.append(name)\n",
    "    msg = f'{name}, {cv_results.mean()}, {cv_results.std()}'\n",
    "    print(msg)"
   ]
  },
  {
   "cell_type": "markdown",
   "id": "8bdd4927",
   "metadata": {
    "papermill": {
     "duration": 0.01174,
     "end_time": "2024-01-09T09:53:23.178586",
     "exception": false,
     "start_time": "2024-01-09T09:53:23.166846",
     "status": "completed"
    },
    "tags": []
   },
   "source": [
    "## Algorithm Tuning"
   ]
  },
  {
   "cell_type": "markdown",
   "id": "66c67465",
   "metadata": {
    "papermill": {
     "duration": 0.011607,
     "end_time": "2024-01-09T09:53:23.202214",
     "exception": false,
     "start_time": "2024-01-09T09:53:23.190607",
     "status": "completed"
    },
    "tags": []
   },
   "source": [
    "### Tuning LDA"
   ]
  },
  {
   "cell_type": "code",
   "execution_count": 18,
   "id": "33376854",
   "metadata": {
    "execution": {
     "iopub.execute_input": "2024-01-09T09:53:23.268166Z",
     "iopub.status.busy": "2024-01-09T09:53:23.267323Z",
     "iopub.status.idle": "2024-01-09T09:53:23.271674Z",
     "shell.execute_reply": "2024-01-09T09:53:23.270849Z"
    },
    "papermill": {
     "duration": 0.019813,
     "end_time": "2024-01-09T09:53:23.273592",
     "exception": false,
     "start_time": "2024-01-09T09:53:23.253779",
     "status": "completed"
    },
    "tags": []
   },
   "outputs": [],
   "source": [
    "scaler = StandardScaler()\n",
    "rescaled_X = scaler.fit_transform(X_train)\n",
    "param_grid = {'solver':['svd', 'lsqr'], 'shrinkage':[None] + [x / 10 for x in range(0, 11)] + ['auto']}\n",
    "model = LinearDiscriminantAnalysis()\n",
    "strat_kfold = StratifiedKFold(n_splits = num_folds, shuffle=True, random_state=seed)\n",
    "grid = GridSearchCV(estimator = model, param_grid = param_grid, cv=strat_kfold, scoring=scoring)\n",
    "grid_results = grid.fit(rescaled_X, y_train)"
   ]
  },
  {
   "cell_type": "code",
   "execution_count": 19,
   "id": "f68bbd78",
   "metadata": {
    "execution": {
     "iopub.execute_input": "2024-01-09T09:53:23.298492Z",
     "iopub.status.busy": "2024-01-09T09:53:23.298218Z",
     "iopub.status.idle": "2024-01-09T09:53:23.302124Z",
     "shell.execute_reply": "2024-01-09T09:53:23.301396Z"
    },
    "papermill": {
     "duration": 0.018513,
     "end_time": "2024-01-09T09:53:23.304089",
     "exception": false,
     "start_time": "2024-01-09T09:53:23.285576",
     "status": "completed"
    },
    "tags": []
   },
   "outputs": [],
   "source": [
    "import warnings\n",
    "warnings.filterwarnings('ignore')"
   ]
  },
  {
   "cell_type": "code",
   "execution_count": 20,
   "id": "33b567bc",
   "metadata": {
    "execution": {
     "iopub.execute_input": "2024-01-09T09:53:23.329797Z",
     "iopub.status.busy": "2024-01-09T09:53:23.329529Z",
     "iopub.status.idle": "2024-01-09T09:53:23.333294Z",
     "shell.execute_reply": "2024-01-09T09:53:23.332465Z"
    },
    "papermill": {
     "duration": 0.018917,
     "end_time": "2024-01-09T09:53:23.335174",
     "exception": false,
     "start_time": "2024-01-09T09:53:23.316257",
     "status": "completed"
    },
    "tags": []
   },
   "outputs": [],
   "source": [
    "print(f'{grid_results.best_score_}, {grid_results.best_params_}')"
   ]
  },
  {
   "cell_type": "markdown",
   "id": "df22f721",
   "metadata": {
    "papermill": {
     "duration": 0.011871,
     "end_time": "2024-01-09T09:53:23.359129",
     "exception": false,
     "start_time": "2024-01-09T09:53:23.347258",
     "status": "completed"
    },
    "tags": []
   },
   "source": [
    "## Ensemble Methods"
   ]
  },
  {
   "cell_type": "code",
   "execution_count": 21,
   "id": "1609b8ea",
   "metadata": {
    "execution": {
     "iopub.execute_input": "2024-01-09T09:53:23.383687Z",
     "iopub.status.busy": "2024-01-09T09:53:23.383382Z",
     "iopub.status.idle": "2024-01-09T09:53:23.387654Z",
     "shell.execute_reply": "2024-01-09T09:53:23.386842Z"
    },
    "papermill": {
     "duration": 0.018728,
     "end_time": "2024-01-09T09:53:23.389512",
     "exception": false,
     "start_time": "2024-01-09T09:53:23.370784",
     "status": "completed"
    },
    "tags": []
   },
   "outputs": [],
   "source": [
    "ensembles = []\n",
    "ensembles.append(('ScaledAB', Pipeline([('Scaler', StandardScaler()), ('AB', AdaBoostClassifier())])))\n",
    "ensembles.append(('ScaledGBM', Pipeline([('Scaler', StandardScaler()), ('GBM', GradientBoostingClassifier())])))\n",
    "ensembles.append(('ScaledRF', Pipeline([('Scaler', StandardScaler()), ('RF', RandomForestClassifier())])))\n",
    "ensembles.append(('ScaledET', Pipeline([('Scaler', StandardScaler()), ('ET', ExtraTreesClassifier())])))\n",
    "\n",
    "results = []\n",
    "names = []\n",
    "for name, model in ensembles:a\n",
    "    strat_kfold = StratifiedKFold(n_splits = num_folds, shuffle=True, random_state = seed)\n",
    "    cv_results = cross_val_score(model, X_train, y_train, cv = strat_kfold, scoring = scoring)\n",
    "    results.append(cv_results)\n",
    "    names.append(name)\n",
    "    msg = f\"{name}, {cv_results.mean()}, {cv_results.std()}\"\n",
    "    print(msg)"
   ]
  },
  {
   "cell_type": "markdown",
   "id": "dddaf4db",
   "metadata": {
    "papermill": {
     "duration": 0.011679,
     "end_time": "2024-01-09T09:53:23.413102",
     "exception": false,
     "start_time": "2024-01-09T09:53:23.401423",
     "status": "completed"
    },
    "tags": []
   },
   "source": [
    "## Tuning Ensemble Models"
   ]
  },
  {
   "cell_type": "markdown",
   "id": "c16166f4",
   "metadata": {
    "papermill": {
     "duration": 0.011743,
     "end_time": "2024-01-09T09:53:23.436806",
     "exception": false,
     "start_time": "2024-01-09T09:53:23.425063",
     "status": "completed"
    },
    "tags": []
   },
   "source": [
    "### Tuning Gradient Boosting Classifier"
   ]
  },
  {
   "cell_type": "code",
   "execution_count": 22,
   "id": "61f84b92",
   "metadata": {
    "execution": {
     "iopub.execute_input": "2024-01-09T09:53:23.461456Z",
     "iopub.status.busy": "2024-01-09T09:53:23.461206Z",
     "iopub.status.idle": "2024-01-09T09:59:18.604239Z",
     "shell.execute_reply": "2024-01-09T09:59:18.603253Z"
    },
    "papermill": {
     "duration": 355.170086,
     "end_time": "2024-01-09T09:59:18.618667",
     "exception": false,
     "start_time": "2024-01-09T09:53:23.448581",
     "status": "completed"
    },
    "tags": []
   },
   "outputs": [
    {
     "name": "stdout",
     "output_type": "stream",
     "text": [
      "0.8084723052170821 {'n_estimators': 250}\n"
     ]
    }
   ],
   "source": [
    "scaler = StandardScaler()\n",
    "rescaled_X = scaler.fit_transform(X_train)\n",
    "estimators = np.arange(50, 300, 50)\n",
    "param_grid = dict(n_estimators = estimators)\n",
    "model = GradientBoostingClassifier()\n",
    "strat_kfold = StratifiedKFold(n_splits = 4, shuffle = True, random_state = seed)\n",
    "grid = GridSearchCV(model, param_grid = param_grid, cv = strat_kfold, scoring = scoring)\n",
    "grid_results = grid.fit(rescaled_X, y_train)\n",
    "print(grid_results.best_score_, grid_results.best_params_)"
   ]
  },
  {
   "cell_type": "markdown",
   "id": "b74f7fe3",
   "metadata": {
    "papermill": {
     "duration": 0.011654,
     "end_time": "2024-01-09T09:59:18.642333",
     "exception": false,
     "start_time": "2024-01-09T09:59:18.630679",
     "status": "completed"
    },
    "tags": []
   },
   "source": [
    "## Finalize Model"
   ]
  },
  {
   "cell_type": "code",
   "execution_count": 23,
   "id": "eae78114",
   "metadata": {
    "execution": {
     "iopub.execute_input": "2024-01-09T09:59:18.667531Z",
     "iopub.status.busy": "2024-01-09T09:59:18.667242Z",
     "iopub.status.idle": "2024-01-09T09:59:53.692768Z",
     "shell.execute_reply": "2024-01-09T09:59:53.691815Z"
    },
    "papermill": {
     "duration": 35.052404,
     "end_time": "2024-01-09T09:59:53.706684",
     "exception": false,
     "start_time": "2024-01-09T09:59:18.654280",
     "status": "completed"
    },
    "tags": []
   },
   "outputs": [
    {
     "data": {
      "text/html": [
       "<style>#sk-container-id-1 {color: black;background-color: white;}#sk-container-id-1 pre{padding: 0;}#sk-container-id-1 div.sk-toggleable {background-color: white;}#sk-container-id-1 label.sk-toggleable__label {cursor: pointer;display: block;width: 100%;margin-bottom: 0;padding: 0.3em;box-sizing: border-box;text-align: center;}#sk-container-id-1 label.sk-toggleable__label-arrow:before {content: \"▸\";float: left;margin-right: 0.25em;color: #696969;}#sk-container-id-1 label.sk-toggleable__label-arrow:hover:before {color: black;}#sk-container-id-1 div.sk-estimator:hover label.sk-toggleable__label-arrow:before {color: black;}#sk-container-id-1 div.sk-toggleable__content {max-height: 0;max-width: 0;overflow: hidden;text-align: left;background-color: #f0f8ff;}#sk-container-id-1 div.sk-toggleable__content pre {margin: 0.2em;color: black;border-radius: 0.25em;background-color: #f0f8ff;}#sk-container-id-1 input.sk-toggleable__control:checked~div.sk-toggleable__content {max-height: 200px;max-width: 100%;overflow: auto;}#sk-container-id-1 input.sk-toggleable__control:checked~label.sk-toggleable__label-arrow:before {content: \"▾\";}#sk-container-id-1 div.sk-estimator input.sk-toggleable__control:checked~label.sk-toggleable__label {background-color: #d4ebff;}#sk-container-id-1 div.sk-label input.sk-toggleable__control:checked~label.sk-toggleable__label {background-color: #d4ebff;}#sk-container-id-1 input.sk-hidden--visually {border: 0;clip: rect(1px 1px 1px 1px);clip: rect(1px, 1px, 1px, 1px);height: 1px;margin: -1px;overflow: hidden;padding: 0;position: absolute;width: 1px;}#sk-container-id-1 div.sk-estimator {font-family: monospace;background-color: #f0f8ff;border: 1px dotted black;border-radius: 0.25em;box-sizing: border-box;margin-bottom: 0.5em;}#sk-container-id-1 div.sk-estimator:hover {background-color: #d4ebff;}#sk-container-id-1 div.sk-parallel-item::after {content: \"\";width: 100%;border-bottom: 1px solid gray;flex-grow: 1;}#sk-container-id-1 div.sk-label:hover label.sk-toggleable__label {background-color: #d4ebff;}#sk-container-id-1 div.sk-serial::before {content: \"\";position: absolute;border-left: 1px solid gray;box-sizing: border-box;top: 0;bottom: 0;left: 50%;z-index: 0;}#sk-container-id-1 div.sk-serial {display: flex;flex-direction: column;align-items: center;background-color: white;padding-right: 0.2em;padding-left: 0.2em;position: relative;}#sk-container-id-1 div.sk-item {position: relative;z-index: 1;}#sk-container-id-1 div.sk-parallel {display: flex;align-items: stretch;justify-content: center;background-color: white;position: relative;}#sk-container-id-1 div.sk-item::before, #sk-container-id-1 div.sk-parallel-item::before {content: \"\";position: absolute;border-left: 1px solid gray;box-sizing: border-box;top: 0;bottom: 0;left: 50%;z-index: -1;}#sk-container-id-1 div.sk-parallel-item {display: flex;flex-direction: column;z-index: 1;position: relative;background-color: white;}#sk-container-id-1 div.sk-parallel-item:first-child::after {align-self: flex-end;width: 50%;}#sk-container-id-1 div.sk-parallel-item:last-child::after {align-self: flex-start;width: 50%;}#sk-container-id-1 div.sk-parallel-item:only-child::after {width: 0;}#sk-container-id-1 div.sk-dashed-wrapped {border: 1px dashed gray;margin: 0 0.4em 0.5em 0.4em;box-sizing: border-box;padding-bottom: 0.4em;background-color: white;}#sk-container-id-1 div.sk-label label {font-family: monospace;font-weight: bold;display: inline-block;line-height: 1.2em;}#sk-container-id-1 div.sk-label-container {text-align: center;}#sk-container-id-1 div.sk-container {/* jupyter's `normalize.less` sets `[hidden] { display: none; }` but bootstrap.min.css set `[hidden] { display: none !important; }` so we also need the `!important` here to be able to override the default hidden behavior on the sphinx rendered scikit-learn.org. See: https://github.com/scikit-learn/scikit-learn/issues/21755 */display: inline-block !important;position: relative;}#sk-container-id-1 div.sk-text-repr-fallback {display: none;}</style><div id=\"sk-container-id-1\" class=\"sk-top-container\"><div class=\"sk-text-repr-fallback\"><pre>GradientBoostingClassifier(n_estimators=250, random_state=42)</pre><b>In a Jupyter environment, please rerun this cell to show the HTML representation or trust the notebook. <br />On GitHub, the HTML representation is unable to render, please try loading this page with nbviewer.org.</b></div><div class=\"sk-container\" hidden><div class=\"sk-item\"><div class=\"sk-estimator sk-toggleable\"><input class=\"sk-toggleable__control sk-hidden--visually\" id=\"sk-estimator-id-1\" type=\"checkbox\" checked><label for=\"sk-estimator-id-1\" class=\"sk-toggleable__label sk-toggleable__label-arrow\">GradientBoostingClassifier</label><div class=\"sk-toggleable__content\"><pre>GradientBoostingClassifier(n_estimators=250, random_state=42)</pre></div></div></div></div></div>"
      ],
      "text/plain": [
       "GradientBoostingClassifier(n_estimators=250, random_state=42)"
      ]
     },
     "execution_count": 23,
     "metadata": {},
     "output_type": "execute_result"
    }
   ],
   "source": [
    "scaler = StandardScaler()\n",
    "rescaled_X = scaler.fit_transform(X_train)\n",
    "model = GradientBoostingClassifier(random_state = seed, n_estimators = 250)\n",
    "model.fit(rescaled_X, y_train)"
   ]
  },
  {
   "cell_type": "code",
   "execution_count": 24,
   "id": "1d960aef",
   "metadata": {
    "execution": {
     "iopub.execute_input": "2024-01-09T09:59:53.732603Z",
     "iopub.status.busy": "2024-01-09T09:59:53.732289Z",
     "iopub.status.idle": "2024-01-09T09:59:53.736498Z",
     "shell.execute_reply": "2024-01-09T09:59:53.735639Z"
    },
    "papermill": {
     "duration": 0.019495,
     "end_time": "2024-01-09T09:59:53.738488",
     "exception": false,
     "start_time": "2024-01-09T09:59:53.718993",
     "status": "completed"
    },
    "tags": []
   },
   "outputs": [],
   "source": [
    "from sklearn.metrics import roc_auc_score"
   ]
  },
  {
   "cell_type": "code",
   "execution_count": 25,
   "id": "692f3cb2",
   "metadata": {
    "execution": {
     "iopub.execute_input": "2024-01-09T09:59:53.764354Z",
     "iopub.status.busy": "2024-01-09T09:59:53.764101Z",
     "iopub.status.idle": "2024-01-09T09:59:53.889664Z",
     "shell.execute_reply": "2024-01-09T09:59:53.888788Z"
    },
    "papermill": {
     "duration": 0.140939,
     "end_time": "2024-01-09T09:59:53.891582",
     "exception": false,
     "start_time": "2024-01-09T09:59:53.750643",
     "status": "completed"
    },
    "tags": []
   },
   "outputs": [
    {
     "name": "stdout",
     "output_type": "stream",
     "text": [
      "0.8084718480158468\n"
     ]
    }
   ],
   "source": [
    "rescaled_validation_X = scaler.transform(X_validation)\n",
    "predictions = model.predict_proba(rescaled_validation_X)[:, 1]\n",
    "print(roc_auc_score(y_validation, predictions))"
   ]
  },
  {
   "cell_type": "markdown",
   "id": "8c1d4f2d",
   "metadata": {
    "papermill": {
     "duration": 0.012302,
     "end_time": "2024-01-09T09:59:53.916814",
     "exception": false,
     "start_time": "2024-01-09T09:59:53.904512",
     "status": "completed"
    },
    "tags": []
   },
   "source": [
    "## Model for Competition"
   ]
  },
  {
   "cell_type": "code",
   "execution_count": 26,
   "id": "61f56c2f",
   "metadata": {
    "execution": {
     "iopub.execute_input": "2024-01-09T09:59:53.942991Z",
     "iopub.status.busy": "2024-01-09T09:59:53.942699Z",
     "iopub.status.idle": "2024-01-09T09:59:54.323024Z",
     "shell.execute_reply": "2024-01-09T09:59:54.321874Z"
    },
    "papermill": {
     "duration": 0.396084,
     "end_time": "2024-01-09T09:59:54.325284",
     "exception": false,
     "start_time": "2024-01-09T09:59:53.929200",
     "status": "completed"
    },
    "tags": []
   },
   "outputs": [
    {
     "name": "stdout",
     "output_type": "stream",
     "text": [
      "110023\n",
      "110023\n",
      "[0.05802787 0.50747605 0.06929695 ... 0.07652683 0.03330494 0.13695732]\n",
      "110023\n"
     ]
    }
   ],
   "source": [
    "print(len(test_df))\n",
    "rescaled_X_test_df = scaler.transform(test_df)\n",
    "print(len(test_df))\n",
    "predictions = model.predict_proba(rescaled_X_test_df)[:, 1]\n",
    "print(predictions)\n",
    "print(len(predictions))"
   ]
  },
  {
   "cell_type": "code",
   "execution_count": 27,
   "id": "e3293f97",
   "metadata": {
    "execution": {
     "iopub.execute_input": "2024-01-09T09:59:54.354521Z",
     "iopub.status.busy": "2024-01-09T09:59:54.354215Z",
     "iopub.status.idle": "2024-01-09T09:59:54.359074Z",
     "shell.execute_reply": "2024-01-09T09:59:54.358324Z"
    },
    "papermill": {
     "duration": 0.021334,
     "end_time": "2024-01-09T09:59:54.360885",
     "exception": false,
     "start_time": "2024-01-09T09:59:54.339551",
     "status": "completed"
    },
    "tags": []
   },
   "outputs": [],
   "source": [
    "test_df['Exited'] = predictions"
   ]
  },
  {
   "cell_type": "code",
   "execution_count": 28,
   "id": "41ebcc7e",
   "metadata": {
    "execution": {
     "iopub.execute_input": "2024-01-09T09:59:54.387576Z",
     "iopub.status.busy": "2024-01-09T09:59:54.386828Z",
     "iopub.status.idle": "2024-01-09T09:59:54.445214Z",
     "shell.execute_reply": "2024-01-09T09:59:54.444207Z"
    },
    "papermill": {
     "duration": 0.07418,
     "end_time": "2024-01-09T09:59:54.447363",
     "exception": false,
     "start_time": "2024-01-09T09:59:54.373183",
     "status": "completed"
    },
    "tags": []
   },
   "outputs": [],
   "source": [
    "submission = pd.read_csv('/kaggle/input/playground-series-s4e1/sample_submission.csv')"
   ]
  },
  {
   "cell_type": "code",
   "execution_count": 29,
   "id": "e374c0ac",
   "metadata": {
    "execution": {
     "iopub.execute_input": "2024-01-09T09:59:54.474043Z",
     "iopub.status.busy": "2024-01-09T09:59:54.473728Z",
     "iopub.status.idle": "2024-01-09T09:59:54.921242Z",
     "shell.execute_reply": "2024-01-09T09:59:54.920162Z"
    },
    "papermill": {
     "duration": 0.463409,
     "end_time": "2024-01-09T09:59:54.923539",
     "exception": false,
     "start_time": "2024-01-09T09:59:54.460130",
     "status": "completed"
    },
    "tags": []
   },
   "outputs": [
    {
     "data": {
      "text/html": [
       "<div>\n",
       "<style scoped>\n",
       "    .dataframe tbody tr th:only-of-type {\n",
       "        vertical-align: middle;\n",
       "    }\n",
       "\n",
       "    .dataframe tbody tr th {\n",
       "        vertical-align: top;\n",
       "    }\n",
       "\n",
       "    .dataframe thead th {\n",
       "        text-align: right;\n",
       "    }\n",
       "</style>\n",
       "<table border=\"1\" class=\"dataframe\">\n",
       "  <thead>\n",
       "    <tr style=\"text-align: right;\">\n",
       "      <th></th>\n",
       "      <th>id</th>\n",
       "      <th>Exited</th>\n",
       "    </tr>\n",
       "  </thead>\n",
       "  <tbody>\n",
       "    <tr>\n",
       "      <th>0</th>\n",
       "      <td>165034</td>\n",
       "      <td>0.058028</td>\n",
       "    </tr>\n",
       "    <tr>\n",
       "      <th>1</th>\n",
       "      <td>165035</td>\n",
       "      <td>0.507476</td>\n",
       "    </tr>\n",
       "    <tr>\n",
       "      <th>2</th>\n",
       "      <td>165036</td>\n",
       "      <td>0.069297</td>\n",
       "    </tr>\n",
       "    <tr>\n",
       "      <th>3</th>\n",
       "      <td>165037</td>\n",
       "      <td>0.094024</td>\n",
       "    </tr>\n",
       "    <tr>\n",
       "      <th>4</th>\n",
       "      <td>165038</td>\n",
       "      <td>0.251103</td>\n",
       "    </tr>\n",
       "    <tr>\n",
       "      <th>...</th>\n",
       "      <td>...</td>\n",
       "      <td>...</td>\n",
       "    </tr>\n",
       "    <tr>\n",
       "      <th>110018</th>\n",
       "      <td>275052</td>\n",
       "      <td>0.069394</td>\n",
       "    </tr>\n",
       "    <tr>\n",
       "      <th>110019</th>\n",
       "      <td>275053</td>\n",
       "      <td>0.081250</td>\n",
       "    </tr>\n",
       "    <tr>\n",
       "      <th>110020</th>\n",
       "      <td>275054</td>\n",
       "      <td>0.076527</td>\n",
       "    </tr>\n",
       "    <tr>\n",
       "      <th>110021</th>\n",
       "      <td>275055</td>\n",
       "      <td>0.033305</td>\n",
       "    </tr>\n",
       "    <tr>\n",
       "      <th>110022</th>\n",
       "      <td>275056</td>\n",
       "      <td>0.136957</td>\n",
       "    </tr>\n",
       "  </tbody>\n",
       "</table>\n",
       "<p>110023 rows × 2 columns</p>\n",
       "</div>"
      ],
      "text/plain": [
       "            id    Exited\n",
       "0       165034  0.058028\n",
       "1       165035  0.507476\n",
       "2       165036  0.069297\n",
       "3       165037  0.094024\n",
       "4       165038  0.251103\n",
       "...        ...       ...\n",
       "110018  275052  0.069394\n",
       "110019  275053  0.081250\n",
       "110020  275054  0.076527\n",
       "110021  275055  0.033305\n",
       "110022  275056  0.136957\n",
       "\n",
       "[110023 rows x 2 columns]"
      ]
     },
     "execution_count": 29,
     "metadata": {},
     "output_type": "execute_result"
    }
   ],
   "source": [
    "submission['Exited'] = test_df['Exited']\n",
    "submission.to_csv('submission.csv', index = False)\n",
    "submission"
   ]
  }
 ],
 "metadata": {
  "kaggle": {
   "accelerator": "nvidiaTeslaT4",
   "dataSources": [
    {
     "databundleVersionId": 7405009,
     "sourceId": 65711,
     "sourceType": "competition"
    }
   ],
   "dockerImageVersionId": 30627,
   "isGpuEnabled": true,
   "isInternetEnabled": true,
   "language": "python",
   "sourceType": "notebook"
  },
  "kernelspec": {
   "display_name": "Python 3",
   "language": "python",
   "name": "python3"
  },
  "language_info": {
   "codemirror_mode": {
    "name": "ipython",
    "version": 3
   },
   "file_extension": ".py",
   "mimetype": "text/x-python",
   "name": "python",
   "nbconvert_exporter": "python",
   "pygments_lexer": "ipython3",
   "version": "3.10.12"
  },
  "papermill": {
   "default_parameters": {},
   "duration": 403.053338,
   "end_time": "2024-01-09T09:59:55.457335",
   "environment_variables": {},
   "exception": null,
   "input_path": "__notebook__.ipynb",
   "output_path": "__notebook__.ipynb",
   "parameters": {},
   "start_time": "2024-01-09T09:53:12.403997",
   "version": "2.4.0"
  }
 },
 "nbformat": 4,
 "nbformat_minor": 5
}
